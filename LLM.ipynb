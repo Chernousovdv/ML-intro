{
 "cells": [
  {
   "cell_type": "markdown",
   "id": "a72b4710",
   "metadata": {
    "id": "6eaad4c7"
   },
   "source": [
    "# <a href=\"https://miptstats.github.io/courses/ad_fivt.html\">Введение в анализ данных</a>\n",
    "## Домашнее задание 6. Основы обработки текстов\n"
   ]
  },
  {
   "cell_type": "markdown",
   "id": "8c3bd5a7",
   "metadata": {
    "id": "7622f90a"
   },
   "source": [
    "**Правила, <font color=\"red\">прочитайте внимательно</font>:**\n",
    "\n",
    "* Выполненную работу нужно отправить телеграм-боту `@miptstats_ds24_bot`. Для начала работы с ботом каждый раз отправляйте `/start`. **Работы, присланные иным способом, не принимаются.**\n",
    "* Дедлайн см. в боте. После дедлайна работы не принимаются кроме случаев наличия уважительной причины.\n",
    "* Прислать нужно **ноутбук в формате `ipynb`**.\n",
    "* Следите за размером файлов. **Бот не может принимать файлы весом более 20 Мб.** Если файл получается больше, заранее разделите его на несколько.\n",
    "* Выполнять задание необходимо полностью самостоятельно. **При обнаружении списывания все участники списывания будут сдавать устный зачет.**\n",
    "* Решения, размещенные на каких-либо интернет-ресурсах, не принимаются. Кроме того, публикация решения в открытом доступе может быть приравнена к предоставлении возможности списать.\n",
    "* Для выполнения задания используйте этот ноутбук в качестве основы, ничего не удаляя из него. Можно добавлять необходимое количество ячеек.\n",
    "* Комментарии к решению пишите в markdown-ячейках.\n",
    "* Выполнение задания (ход решения, выводы и пр.) должно быть осуществлено на русском языке.\n",
    "* Если код будет не понятен проверяющему, оценка может быть снижена.\n",
    "* Никакой код из данного задания при проверке запускаться не будет. *Если код студента не выполнен, недописан и т.д., то он не оценивается.*\n",
    "\n",
    "\n",
    "**Баллы за задание:**\n",
    "\n",
    "* Задача 1 &mdash; 100 баллов\n",
    "* Задача 2 &mdash; 50 баллов\n",
    "\n",
    "Баллы учитываются в <b><font color=\"green\">факультативной части</font></b> курса и не влияют на оценку по основной части."
   ]
  },
  {
   "cell_type": "code",
   "execution_count": 1,
   "id": "99cfbd97",
   "metadata": {
    "id": "3431050d"
   },
   "outputs": [],
   "source": [
    "# Bot check\n",
    "\n",
    "# HW_ID: fpmi_ad6\n",
    "# Бот проверит этот ID и предупредит, если случайно сдать что-то не то.\n",
    "\n",
    "# Status: not final\n",
    "# Перед отправкой в финальном решении удали \"not\" в строчке выше.\n",
    "# Так бот проверит, что ты отправляешь финальную версию, а не промежуточную.\n",
    "# Никакие значения в этой ячейке не влияют на факт сдачи работы."
   ]
  },
  {
   "cell_type": "code",
   "execution_count": 1,
   "id": "60d34ef1",
   "metadata": {
    "colab": {
     "base_uri": "https://localhost:8080/"
    },
    "id": "2ee3e8d8",
    "outputId": "4600254f-73b1-4601-8f33-cc09ccc60c50"
   },
   "outputs": [
    {
     "name": "stderr",
     "output_type": "stream",
     "text": [
      "[nltk_data] Downloading package stopwords to /root/nltk_data...\n",
      "[nltk_data]   Package stopwords is already up-to-date!\n"
     ]
    }
   ],
   "source": [
    "import time\n",
    "import numpy as np\n",
    "import pandas as pd\n",
    "from tqdm import tqdm\n",
    "from string import punctuation\n",
    "import matplotlib.pyplot as plt\n",
    "from collections import Counter, OrderedDict\n",
    "from IPython.display import clear_output\n",
    "\n",
    "import torch\n",
    "import torch.nn as nn\n",
    "import torch.nn.functional as F\n",
    "from torch.utils.data import DataLoader, Dataset\n",
    "from torch.nn.utils.rnn import pad_sequence\n",
    "\n",
    "from sklearn.model_selection import train_test_split\n",
    "from sklearn.preprocessing import MinMaxScaler\n",
    "from sklearn.model_selection import train_test_split\n",
    "\n",
    "import torchtext\n",
    "from torchtext.data.utils import get_tokenizer\n",
    "\n",
    "import seaborn as sns\n",
    "\n",
    "sns.set(palette=\"Set2\")\n",
    "sns.set_style(\"whitegrid\")\n",
    "\n",
    "import nltk\n",
    "\n",
    "nltk.download(\"stopwords\")\n",
    "\n",
    "device = (\n",
    "    \"mps\"\n",
    "    if torch.backends.mps.is_available()\n",
    "    else \"cuda\" if torch.cuda.is_available() else \"cpu\"\n",
    ")"
   ]
  },
  {
   "cell_type": "markdown",
   "id": "9d437f2e",
   "metadata": {
    "id": "f2a21b25"
   },
   "source": [
    "Перед выполнением задания обязательно посмотрите <a href=\"https://miptstats.github.io/courses/ad_fivt/lecture6.pdf\" target=\"_blank\">презентацию</a>, [ноутбук](https://miptstats.github.io/courses/ad_fivt/nlp_sem.html) по RNN и [ноутбук](https://miptstats.github.io/courses/ad_fivt/nlp_sem_llama.html) по генерации текста."
   ]
  },
  {
   "cell_type": "markdown",
   "id": "2a2ea5d0",
   "metadata": {
    "id": "9045cb13"
   },
   "source": [
    "---\n",
    "### Задача 1. Предсказание заработной платы\n"
   ]
  },
  {
   "cell_type": "markdown",
   "id": "ea1e4420",
   "metadata": {},
   "source": [
    "Задача выполнена в отдельном файле"
   ]
  },
  {
   "cell_type": "markdown",
   "id": "75d2f34b",
   "metadata": {
    "id": "3dc296de"
   },
   "source": [
    "---\n",
    "### Задача 2. Использование большой языковой модели\n"
   ]
  },
  {
   "cell_type": "markdown",
   "id": "443c5cf6",
   "metadata": {
    "id": "8099f7ad"
   },
   "source": [
    "Ваша задача &mdash; применить <a target=\"_blank\" href=\"https://llama-2.ai/\">Llama 2</a> к предыдущей задаче и заставить ее предсказать заработную плату по текстовому описанию. Существует мало русскоязычных моделей, способных решить такую задачу и помещающихся в <a target=\"_blank\" href=\"https://colab.research.google.com/\">Colab</a>, поэтому вам придется писать запросы на английском!"
   ]
  },
  {
   "cell_type": "code",
   "execution_count": 3,
   "id": "c6de8119",
   "metadata": {
    "id": "1a7d4592"
   },
   "outputs": [],
   "source": [
    "!pip install bitsandbytes==0.41.1 transformers==4.34.1 accelerate==0.24.0 sentencepiece==0.1.99 optimum==1.13.2 auto-gptq==0.4.2  > null\n",
    "import transformers\n",
    "import bitsandbytes as bnb\n",
    "\n",
    "assert torch.cuda.is_available(), \"для этой части понадобится GPU\""
   ]
  },
  {
   "cell_type": "markdown",
   "id": "f8cccd2a",
   "metadata": {
    "id": "e154b2c4"
   },
   "source": [
    "Дисклеймер: *использовать LLM в рамках ограничений Colab хоть и возможно, но очень трудно.*\n",
    "\n",
    "> Так как процесс генерации очень хрупкий и может сломаться при любом неверном движении, мы настоятельно рекомендуем **сохранить результаты предыдущего задания в отдельном файле** и приступать к этой задаче в самом конце. Решения задач можно сдавать в бот разными файлами.\n",
    "\n",
    "> Если у вас возникла ошибка `Out of memory`, перезапустите ноутбук и попробуйте снова. Да, языковые модели без своей GPU &mdash; это тяжело..."
   ]
  },
  {
   "cell_type": "markdown",
   "id": "a3fe0bfb",
   "metadata": {
    "id": "f50fa96c"
   },
   "source": [
    "\n",
    "\n",
    "\n",
    "\n",
    "От вас требуется подобрать такой промпт, который приводил бы к нужному выводу модели. Можете экспериментировать с параметрами генерации, список которых можно посмотреть в <a target=\"_blank\" href=\"https://github.com/huggingface/transformers/blob/c4d4e8bdbd25d9463d41de6398940329c89b7fb6/src/transformers/generation_utils.py#L101\">исходнике</a>.\n",
    "\n",
    "Существуют различные техники, которые могут помочь вам \"разговорить\" языковую модель. О многих из них вы сможете прочитать <a target=\"_blank\" href=\"https://docs.mistral.ai/guides/prompting-capabilities/\">здесь</a>. В нашем случае полезным может быть метод Few-Shot Learning, который заключается в предоставлении модели нескольких примеров."
   ]
  },
  {
   "cell_type": "code",
   "execution_count": 4,
   "id": "480708f6",
   "metadata": {
    "colab": {
     "base_uri": "https://localhost:8080/"
    },
    "id": "3d0ba8e1",
    "outputId": "7c0e47f4-6b1c-478c-8906-f97e9391904c"
   },
   "outputs": [
    {
     "name": "stderr",
     "output_type": "stream",
     "text": [
      "You are using the default legacy behaviour of the <class 'transformers.models.llama.tokenization_llama.LlamaTokenizer'>. This is expected, and simply means that the `legacy` (previous) behavior will be used so nothing changes for you. If you want to use the new behaviour, set `legacy=False`. This should only be set if you understand what it means, and thouroughly read the reason why this was added as explained in https://github.com/huggingface/transformers/pull/24565\n",
      "/usr/local/lib/python3.10/dist-packages/transformers/utils/generic.py:311: UserWarning: torch.utils._pytree._register_pytree_node is deprecated. Please use torch.utils._pytree.register_pytree_node instead.\n",
      "  torch.utils._pytree._register_pytree_node(\n",
      "/usr/local/lib/python3.10/dist-packages/transformers/utils/generic.py:311: UserWarning: torch.utils._pytree._register_pytree_node is deprecated. Please use torch.utils._pytree.register_pytree_node instead.\n",
      "  torch.utils._pytree._register_pytree_node(\n",
      "WARNING:auto_gptq.nn_modules.qlinear.qlinear_cuda_old:CUDA extension not installed.\n"
     ]
    }
   ],
   "source": [
    "model_name = \"TheBloke/Llama-2-13B-GPTQ\"\n",
    "\n",
    "# Загружаем Llama токенизатор\n",
    "tokenizer = transformers.LlamaTokenizer.from_pretrained(\n",
    "    model_name, device_map=device\n",
    ")\n",
    "tokenizer.pad_token_id = tokenizer.eos_token_id\n",
    "\n",
    "# И саму модель Llama\n",
    "model = transformers.AutoModelForCausalLM.from_pretrained(\n",
    "    model_name,\n",
    "    device_map=\"auto\",\n",
    "    torch_dtype=torch.float16,\n",
    "    low_cpu_mem_usage=True,\n",
    "    offload_state_dict=True,\n",
    ")"
   ]
  },
  {
   "cell_type": "markdown",
   "id": "84e882aa",
   "metadata": {
    "id": "PEnRn1TW3O8X"
   },
   "source": [
    "Загрузим данные"
   ]
  },
  {
   "cell_type": "code",
   "execution_count": 5,
   "id": "12d87f6a",
   "metadata": {
    "colab": {
     "base_uri": "https://localhost:8080/"
    },
    "id": "aEt86j96ellB",
    "outputId": "3ec82f94-2d86-4754-efd0-62584be5bb96"
   },
   "outputs": [
    {
     "name": "stdout",
     "output_type": "stream",
     "text": [
      "Drive already mounted at /content/drive/; to attempt to forcibly remount, call drive.mount(\"/content/drive/\", force_remount=True).\n"
     ]
    }
   ],
   "source": [
    "from google.colab import drive\n",
    "drive.mount('/content/drive/')"
   ]
  },
  {
   "cell_type": "code",
   "execution_count": 6,
   "id": "befc2fc4",
   "metadata": {
    "colab": {
     "base_uri": "https://localhost:8080/",
     "height": 206
    },
    "id": "tcIJzw03e3kW",
    "outputId": "591b102f-b647-40b1-b241-5ed2e3934c53"
   },
   "outputs": [
    {
     "data": {
      "application/vnd.google.colaboratory.intrinsic+json": {
       "type": "dataframe",
       "variable_name": "dataset"
      },
      "text/html": [
       "\n",
       "  <div id=\"df-6f5f65bf-14c3-478c-9571-45827fc482d0\" class=\"colab-df-container\">\n",
       "    <div>\n",
       "<style scoped>\n",
       "    .dataframe tbody tr th:only-of-type {\n",
       "        vertical-align: middle;\n",
       "    }\n",
       "\n",
       "    .dataframe tbody tr th {\n",
       "        vertical-align: top;\n",
       "    }\n",
       "\n",
       "    .dataframe thead th {\n",
       "        text-align: right;\n",
       "    }\n",
       "</style>\n",
       "<table border=\"1\" class=\"dataframe\">\n",
       "  <thead>\n",
       "    <tr style=\"text-align: right;\">\n",
       "      <th></th>\n",
       "      <th>FullDescription</th>\n",
       "      <th>SalaryNormalized</th>\n",
       "    </tr>\n",
       "  </thead>\n",
       "  <tbody>\n",
       "    <tr>\n",
       "      <th>0</th>\n",
       "      <td>This is an exciting opportunity for a Recruite...</td>\n",
       "      <td>55000</td>\n",
       "    </tr>\n",
       "    <tr>\n",
       "      <th>1</th>\n",
       "      <td>Our client is looking for a .net web developer...</td>\n",
       "      <td>27500</td>\n",
       "    </tr>\n",
       "    <tr>\n",
       "      <th>2</th>\n",
       "      <td>MS SQL Database Administrator  Helsinki, Finla...</td>\n",
       "      <td>72098</td>\n",
       "    </tr>\n",
       "    <tr>\n",
       "      <th>3</th>\n",
       "      <td>ACADEMIC APPOINTMENTS A large secondary school...</td>\n",
       "      <td>32400</td>\n",
       "    </tr>\n",
       "    <tr>\n",
       "      <th>4</th>\n",
       "      <td>Head of User Experience  c. ****k / London A H...</td>\n",
       "      <td>67500</td>\n",
       "    </tr>\n",
       "  </tbody>\n",
       "</table>\n",
       "</div>\n",
       "    <div class=\"colab-df-buttons\">\n",
       "\n",
       "  <div class=\"colab-df-container\">\n",
       "    <button class=\"colab-df-convert\" onclick=\"convertToInteractive('df-6f5f65bf-14c3-478c-9571-45827fc482d0')\"\n",
       "            title=\"Convert this dataframe to an interactive table.\"\n",
       "            style=\"display:none;\">\n",
       "\n",
       "  <svg xmlns=\"http://www.w3.org/2000/svg\" height=\"24px\" viewBox=\"0 -960 960 960\">\n",
       "    <path d=\"M120-120v-720h720v720H120Zm60-500h600v-160H180v160Zm220 220h160v-160H400v160Zm0 220h160v-160H400v160ZM180-400h160v-160H180v160Zm440 0h160v-160H620v160ZM180-180h160v-160H180v160Zm440 0h160v-160H620v160Z\"/>\n",
       "  </svg>\n",
       "    </button>\n",
       "\n",
       "  <style>\n",
       "    .colab-df-container {\n",
       "      display:flex;\n",
       "      gap: 12px;\n",
       "    }\n",
       "\n",
       "    .colab-df-convert {\n",
       "      background-color: #E8F0FE;\n",
       "      border: none;\n",
       "      border-radius: 50%;\n",
       "      cursor: pointer;\n",
       "      display: none;\n",
       "      fill: #1967D2;\n",
       "      height: 32px;\n",
       "      padding: 0 0 0 0;\n",
       "      width: 32px;\n",
       "    }\n",
       "\n",
       "    .colab-df-convert:hover {\n",
       "      background-color: #E2EBFA;\n",
       "      box-shadow: 0px 1px 2px rgba(60, 64, 67, 0.3), 0px 1px 3px 1px rgba(60, 64, 67, 0.15);\n",
       "      fill: #174EA6;\n",
       "    }\n",
       "\n",
       "    .colab-df-buttons div {\n",
       "      margin-bottom: 4px;\n",
       "    }\n",
       "\n",
       "    [theme=dark] .colab-df-convert {\n",
       "      background-color: #3B4455;\n",
       "      fill: #D2E3FC;\n",
       "    }\n",
       "\n",
       "    [theme=dark] .colab-df-convert:hover {\n",
       "      background-color: #434B5C;\n",
       "      box-shadow: 0px 1px 3px 1px rgba(0, 0, 0, 0.15);\n",
       "      filter: drop-shadow(0px 1px 2px rgba(0, 0, 0, 0.3));\n",
       "      fill: #FFFFFF;\n",
       "    }\n",
       "  </style>\n",
       "\n",
       "    <script>\n",
       "      const buttonEl =\n",
       "        document.querySelector('#df-6f5f65bf-14c3-478c-9571-45827fc482d0 button.colab-df-convert');\n",
       "      buttonEl.style.display =\n",
       "        google.colab.kernel.accessAllowed ? 'block' : 'none';\n",
       "\n",
       "      async function convertToInteractive(key) {\n",
       "        const element = document.querySelector('#df-6f5f65bf-14c3-478c-9571-45827fc482d0');\n",
       "        const dataTable =\n",
       "          await google.colab.kernel.invokeFunction('convertToInteractive',\n",
       "                                                    [key], {});\n",
       "        if (!dataTable) return;\n",
       "\n",
       "        const docLinkHtml = 'Like what you see? Visit the ' +\n",
       "          '<a target=\"_blank\" href=https://colab.research.google.com/notebooks/data_table.ipynb>data table notebook</a>'\n",
       "          + ' to learn more about interactive tables.';\n",
       "        element.innerHTML = '';\n",
       "        dataTable['output_type'] = 'display_data';\n",
       "        await google.colab.output.renderOutput(dataTable, element);\n",
       "        const docLink = document.createElement('div');\n",
       "        docLink.innerHTML = docLinkHtml;\n",
       "        element.appendChild(docLink);\n",
       "      }\n",
       "    </script>\n",
       "  </div>\n",
       "\n",
       "\n",
       "<div id=\"df-63477c32-8c54-4cf1-908f-8175d6578754\">\n",
       "  <button class=\"colab-df-quickchart\" onclick=\"quickchart('df-63477c32-8c54-4cf1-908f-8175d6578754')\"\n",
       "            title=\"Suggest charts\"\n",
       "            style=\"display:none;\">\n",
       "\n",
       "<svg xmlns=\"http://www.w3.org/2000/svg\" height=\"24px\"viewBox=\"0 0 24 24\"\n",
       "     width=\"24px\">\n",
       "    <g>\n",
       "        <path d=\"M19 3H5c-1.1 0-2 .9-2 2v14c0 1.1.9 2 2 2h14c1.1 0 2-.9 2-2V5c0-1.1-.9-2-2-2zM9 17H7v-7h2v7zm4 0h-2V7h2v10zm4 0h-2v-4h2v4z\"/>\n",
       "    </g>\n",
       "</svg>\n",
       "  </button>\n",
       "\n",
       "<style>\n",
       "  .colab-df-quickchart {\n",
       "      --bg-color: #E8F0FE;\n",
       "      --fill-color: #1967D2;\n",
       "      --hover-bg-color: #E2EBFA;\n",
       "      --hover-fill-color: #174EA6;\n",
       "      --disabled-fill-color: #AAA;\n",
       "      --disabled-bg-color: #DDD;\n",
       "  }\n",
       "\n",
       "  [theme=dark] .colab-df-quickchart {\n",
       "      --bg-color: #3B4455;\n",
       "      --fill-color: #D2E3FC;\n",
       "      --hover-bg-color: #434B5C;\n",
       "      --hover-fill-color: #FFFFFF;\n",
       "      --disabled-bg-color: #3B4455;\n",
       "      --disabled-fill-color: #666;\n",
       "  }\n",
       "\n",
       "  .colab-df-quickchart {\n",
       "    background-color: var(--bg-color);\n",
       "    border: none;\n",
       "    border-radius: 50%;\n",
       "    cursor: pointer;\n",
       "    display: none;\n",
       "    fill: var(--fill-color);\n",
       "    height: 32px;\n",
       "    padding: 0;\n",
       "    width: 32px;\n",
       "  }\n",
       "\n",
       "  .colab-df-quickchart:hover {\n",
       "    background-color: var(--hover-bg-color);\n",
       "    box-shadow: 0 1px 2px rgba(60, 64, 67, 0.3), 0 1px 3px 1px rgba(60, 64, 67, 0.15);\n",
       "    fill: var(--button-hover-fill-color);\n",
       "  }\n",
       "\n",
       "  .colab-df-quickchart-complete:disabled,\n",
       "  .colab-df-quickchart-complete:disabled:hover {\n",
       "    background-color: var(--disabled-bg-color);\n",
       "    fill: var(--disabled-fill-color);\n",
       "    box-shadow: none;\n",
       "  }\n",
       "\n",
       "  .colab-df-spinner {\n",
       "    border: 2px solid var(--fill-color);\n",
       "    border-color: transparent;\n",
       "    border-bottom-color: var(--fill-color);\n",
       "    animation:\n",
       "      spin 1s steps(1) infinite;\n",
       "  }\n",
       "\n",
       "  @keyframes spin {\n",
       "    0% {\n",
       "      border-color: transparent;\n",
       "      border-bottom-color: var(--fill-color);\n",
       "      border-left-color: var(--fill-color);\n",
       "    }\n",
       "    20% {\n",
       "      border-color: transparent;\n",
       "      border-left-color: var(--fill-color);\n",
       "      border-top-color: var(--fill-color);\n",
       "    }\n",
       "    30% {\n",
       "      border-color: transparent;\n",
       "      border-left-color: var(--fill-color);\n",
       "      border-top-color: var(--fill-color);\n",
       "      border-right-color: var(--fill-color);\n",
       "    }\n",
       "    40% {\n",
       "      border-color: transparent;\n",
       "      border-right-color: var(--fill-color);\n",
       "      border-top-color: var(--fill-color);\n",
       "    }\n",
       "    60% {\n",
       "      border-color: transparent;\n",
       "      border-right-color: var(--fill-color);\n",
       "    }\n",
       "    80% {\n",
       "      border-color: transparent;\n",
       "      border-right-color: var(--fill-color);\n",
       "      border-bottom-color: var(--fill-color);\n",
       "    }\n",
       "    90% {\n",
       "      border-color: transparent;\n",
       "      border-bottom-color: var(--fill-color);\n",
       "    }\n",
       "  }\n",
       "</style>\n",
       "\n",
       "  <script>\n",
       "    async function quickchart(key) {\n",
       "      const quickchartButtonEl =\n",
       "        document.querySelector('#' + key + ' button');\n",
       "      quickchartButtonEl.disabled = true;  // To prevent multiple clicks.\n",
       "      quickchartButtonEl.classList.add('colab-df-spinner');\n",
       "      try {\n",
       "        const charts = await google.colab.kernel.invokeFunction(\n",
       "            'suggestCharts', [key], {});\n",
       "      } catch (error) {\n",
       "        console.error('Error during call to suggestCharts:', error);\n",
       "      }\n",
       "      quickchartButtonEl.classList.remove('colab-df-spinner');\n",
       "      quickchartButtonEl.classList.add('colab-df-quickchart-complete');\n",
       "    }\n",
       "    (() => {\n",
       "      let quickchartButtonEl =\n",
       "        document.querySelector('#df-63477c32-8c54-4cf1-908f-8175d6578754 button');\n",
       "      quickchartButtonEl.style.display =\n",
       "        google.colab.kernel.accessAllowed ? 'block' : 'none';\n",
       "    })();\n",
       "  </script>\n",
       "</div>\n",
       "    </div>\n",
       "  </div>\n"
      ],
      "text/plain": [
       "                                     FullDescription  SalaryNormalized\n",
       "0  This is an exciting opportunity for a Recruite...             55000\n",
       "1  Our client is looking for a .net web developer...             27500\n",
       "2  MS SQL Database Administrator  Helsinki, Finla...             72098\n",
       "3  ACADEMIC APPOINTMENTS A large secondary school...             32400\n",
       "4  Head of User Experience  c. ****k / London A H...             67500"
      ]
     },
     "execution_count": 6,
     "metadata": {},
     "output_type": "execute_result"
    }
   ],
   "source": [
    "dataset = pd.read_csv(\"/content/drive/MyDrive/Colab Notebooks/salary_dataset.csv\")\n",
    "dataset.head()"
   ]
  },
  {
   "cell_type": "markdown",
   "id": "395c2965",
   "metadata": {
    "id": "JMCQQdXx3SWO"
   },
   "source": [
    "В качестве промпта будем использовать строку, которая говорит LLM, что от неё ожидается. Затем приводиться несколько примеров (метод Few shot learning) c описанием и таргетным признаком (зарплатой). В коцне выводится интересующее нас описание, и LLM продолжает текст начиная с \"salary:\" т.е. выводит зарплату соответсвущую данному описанию. Приведём 7 описаний, в связи с ограничениями памяти"
   ]
  },
  {
   "cell_type": "code",
   "execution_count": 12,
   "id": "60a0671c",
   "metadata": {
    "id": "8NcqmWQcDsWd"
   },
   "outputs": [],
   "source": [
    "# Создадим базовый prompt, добавим в него описание требуемого результата,\n",
    "# а также примеры, на соновании которых Llama сможет продолжить\n",
    "# последовательность описание-зарплата\n",
    "prompt = f'''You are given a text description of a job and need to evaluate salary based on this description. Provide only the number representing expected salary.\n",
    "\n",
    "###\n",
    "Here are 7 job descriptions:\n",
    "\n",
    "{ dataset['FullDescription'][0]}\n",
    " Salary: {dataset['SalaryNormalized'][0]}\n",
    "\n",
    "{ dataset['FullDescription'][5]}\n",
    " Salary: {dataset['SalaryNormalized'][5]}\n",
    "\n",
    "{ dataset['FullDescription'][100]}\n",
    " Salary: {dataset['SalaryNormalized'][100]}\n",
    "\n",
    "{ dataset['FullDescription'][200]}\n",
    " Salary: {dataset['SalaryNormalized'][200]}\n",
    "\n",
    "{ dataset['FullDescription'][300]}\n",
    " Salary: {dataset['SalaryNormalized'][300]}\n",
    "\n",
    "{ dataset['FullDescription'][400]}\n",
    " Salary: {dataset['SalaryNormalized'][400]}\n",
    "\n",
    "'''"
   ]
  },
  {
   "cell_type": "code",
   "execution_count": 13,
   "id": "5f232179",
   "metadata": {
    "colab": {
     "base_uri": "https://localhost:8080/"
    },
    "id": "PnNcgmwj2lru",
    "outputId": "f67a7b93-3220-406f-829f-65d409451ad0"
   },
   "outputs": [
    {
     "name": "stdout",
     "output_type": "stream",
     "text": [
      "\n",
      "Output: <s>You are given a text description of a job and need to evaluate salary based on this description. Provide only the number representing expected salary.\n",
      "\n",
      "###\n",
      "Here are 7 job descriptions:\n",
      "\n",
      "This is an exciting opportunity for a Recruiter to join a rapidly growing online retailer. You will be responsible for developing and executing recruiting plans across the company. Your key accountabilities will include creating job descriptions, working closely with hiring managers, reducing recruitment costs, coordinating and implementing university recruitment initiatives and networking with industry contacts. You should be of graduate calibre with a track record in recruitment ideally gained in a fast moving start up environment. Experience of working in an online company would be a distinct advantage. Our client is an online retailer operating in the UK and in Continental Europe. This job was originally posted as www.totaljobs.com/JobSeeking/RecruitmentManager_job****\n",
      " Salary: 55000\n",
      "\n",
      "We are a new fast growing Internet/Telecoms company Klick2Contact (), established in 2010 which offers a full intuitive suite of Live Help services to companies thought the UK and Europe with ecommerce websites. These services help increase their online sales and decrease their website abandonment and more besides We have customers like Next plc and Yodel and Ryanair in the UK and customers all across Europe too. We want experienced, enthusiastic telesales people to work from home and make appointments for our UK sales people and to sell to small companies on the phone as well. We provide full training and marketing back up via ecasts, web and collateral and both a good salary and commission and you can work from home anywhere in the UK. We will pay for your phone calls and your internet. Why not become part of our future success? We will consider Part Time too. ****  **** depending on experience. Phone bill and internet paid too.\n",
      " Salary: 14999\n",
      "\n",
      "Position: Junior Packaging Designer Location: London Salary: ****k Ref: **** Client based in West London is currently on the look out for junior packaging designer to join the studio team. The company specialise in a wide range of packaging for a number of products The ideal candidate will have some commercial experience may be a placement or some freelance work. Good set of packages to a high standard As well as the finished work would be good to show some sketch work in the examples. If you can **** or **** examples on a PDF document something to present to the client. Please make sure that your full address and details are included in your application for this role\n",
      " Salary: 13000\n",
      "\n",
      "Huxley Associates is proud to be working exclusively with a leading and growing Engineering business in the Worcester area who are looking for a new technical Project Manager to join the team. This is a heavy engineering business design and manufacture complex electromechanical products to a variety of industries including Automotive and Off Highway. They are a growing business with 4 sites currently globally but are extremely busy with work so are looking to grow the business further. In line with this they are looking to recruit a Project Manager onto the team. This is a technical role which will require experience in mechanical and electric equipment at PLC control. You will be out working with the companies customer so an element of travel is involved where you will need to represent the company, produce quotations and get involved in the sales process. This is a passionate and enthusiastic company with what they do so they are looking for someone who shares this passion. There is clear progression in this role to Technical Director for a candidate who proves themselves in the role. On offer for the role is a starting salary of circa **** plus company car and generous benefits package. This is an urgent role with shortlisting occurring now so if you would like to be considered please apply to Brooke Whitehead at Huxley Associates ASAP in order to avoid disappointment. NB This role may be suitable for, but not limited to, the following job titles: Project Manager, Project Engineer, Commissioning Engineer, Maintenance Engineer, Applications Engineer, Electrical Engineer. This role is commutable from: Worcester, Redditch, Bromsgrove, Birmingham, Stratford, Hereford, Worcestershire, West Midlands. Please note there is a relocation package on offer if necessary for the right candidate.To find out more about Huxley Associates please visit www.huxley.com\n",
      " Salary: 42500\n",
      "\n",
      "Job Title  PLC Software Engineer Location  Birmingham or Bedford Up to **** per annum (experience dependant)  Car The Role Our client is a rapidly expanding multimillion pound business with sites across Europe. Specialising in fully automated materials handling solutions their customers include the likes of BMW, Bentley, Aston Martin, Amazon and Parcel Force to name a few. They are urgently seeking a PLC Software Engineer to join their experienced team. Candidates must be able code PLC from scratch, Siemens or Rockwell is preferable but not essential. The successful candidate will work closely with both the Project Manager s and Engineers, as well as Sales staff and on site contractors to ensure the project is delivered on time and to schedule. The majority of your time will be spent writing code for fully automated systems, with the rest spent on site working with the Commissioning Engineers at the point of installation. The PLC Software Engineer will also be required to act as a trouble shooter and liaise with service support staff in rectifying problems, which may require radical solutions to problems. The successful candidate would also be required to work on site when needed. The Candidate To be successful in your application you must have the following skills or attributes: Must be able to write PLC code from scratch (Siemens S**** or Rockwell preferable). Must be willing to travel across the UK and stay away. Must be selfmotivated. A minimum of 5 years experience writing code. The Benefits Basic salary  Up to **** depending on experience. Company Car  Large range available including Audi and BMW. Holidays  23 days  **** statutory days. Pension & Bupa healthcare available. Funded training available\n",
      " Salary: 36500\n",
      "\n",
      "Our client is looking to recruit a CNC Machinist for a permanent position with immediate start. The ideal candidate must be apprentice trained and have previous experience working on CNC Machining Centre. Day & Night Shifts available. This is a temporary to permanent position for the ideal candidate, with an immediate start. Interested then do not delay Please contact Stacey ASAP: Email your CV by using the 'Apply Now' option or call us on the telephone number below in 'Additional Information' This vacancy is within travelling distance from Keighley, Skipton, Colne, Nelson, Bingley, Shipley, Bradford & Burnley.\n",
      " Salary: 24960\n",
      "\n",
      "My Client, part of a large Corporate Lettings Group are currently seeking an experienced Administrator to join their expanding Norwich City Centre Branch The succesful candidate must have a solid administration background, excellent IT skils and good attention to detail. Previous property/lettings experience would be an advantage, but is not essential. You will be able to multitalk, work well as part of a busy team and feel confident dealing with clients, both face to face and over the telephone. This is a great opportunity to become part of a successful team, where someone with the the right amount of energy, enthusiasm and drive will be given the opportunity to succeed. Meridian Business Support are acting on behalf of our Clients as a Recruitment Agency\n",
      " Salary: 15000\n",
      "\n",
      "###\n",
      "Input batch (encoded): {'input_ids': tensor([[    1,   887,   526,  ...,  3956,   653, 29901]], device='cuda:0'), 'attention_mask': tensor([[1, 1, 1,  ..., 1, 1, 1]], device='cuda:0')}\n"
     ]
    }
   ],
   "source": [
    "# Добавим в промпт интересующее нас описание\n",
    "prompt2 = prompt + f'''{ dataset['FullDescription'][151]}\n",
    " Salary:'''\n",
    "\n",
    "batch = tokenizer(prompt2, return_tensors='pt', return_token_type_ids=False).to(device)\n",
    "\n",
    "output_tokens = model.generate(**batch, max_new_tokens=10, do_sample=True, temperature=0.8)\n",
    "\n",
    "print(\"\\nOutput:\", tokenizer.decode(output_tokens[0].cpu()))\n",
    "\n",
    "print(\"Input batch (encoded):\", batch)"
   ]
  },
  {
   "cell_type": "markdown",
   "id": "0dd8e11f",
   "metadata": {
    "id": "bLjfbphzBE1f"
   },
   "source": [
    "Посмотрем на истинное значение"
   ]
  },
  {
   "cell_type": "code",
   "execution_count": 14,
   "id": "17e984c1",
   "metadata": {
    "colab": {
     "base_uri": "https://localhost:8080/"
    },
    "id": "IXwHWKAvA6SF",
    "outputId": "fbf4fe14-8499-4343-8f4b-49f44824791f"
   },
   "outputs": [
    {
     "name": "stdout",
     "output_type": "stream",
     "text": [
      "True salary: 15000\n"
     ]
    }
   ],
   "source": [
    "print(f\"True salary: {dataset['SalaryNormalized'][151]}\")"
   ]
  },
  {
   "cell_type": "markdown",
   "id": "dc01fc95",
   "metadata": {},
   "source": [
    "То что значение совпало точь в точь скорее всего является совпадением, однако вполне вероятно, что при обучении Llama были использованы в том числе данные о зарплатах."
   ]
  },
  {
   "cell_type": "code",
   "execution_count": 15,
   "id": "53aac93a",
   "metadata": {
    "colab": {
     "base_uri": "https://localhost:8080/"
    },
    "id": "PM-qQ1s__3Rd",
    "outputId": "3c601acb-e1e5-445a-d885-83a98943c8bf"
   },
   "outputs": [
    {
     "name": "stdout",
     "output_type": "stream",
     "text": [
      "\n",
      "Output: <s> You are given a text description of a job and need to evaluate salary based on this description. Provide only the number representing expected salary.\n",
      "\n",
      "###\n",
      "Here are 7 job descriptions:\n",
      "\n",
      "This is an exciting opportunity for a Recruiter to join a rapidly growing online retailer. You will be responsible for developing and executing recruiting plans across the company. Your key accountabilities will include creating job descriptions, working closely with hiring managers, reducing recruitment costs, coordinating and implementing university recruitment initiatives and networking with industry contacts. You should be of graduate calibre with a track record in recruitment ideally gained in a fast moving start up environment. Experience of working in an online company would be a distinct advantage. Our client is an online retailer operating in the UK and in Continental Europe. This job was originally posted as www.totaljobs.com/JobSeeking/RecruitmentManager_job****\n",
      " Salary: 55000\n",
      "\n",
      "We are a new fast growing Internet/Telecoms company Klick2Contact (), established in 2010 which offers a full intuitive suite of Live Help services to companies thought the UK and Europe with ecommerce websites. These services help increase their online sales and decrease their website abandonment and more besides We have customers like Next plc and Yodel and Ryanair in the UK and customers all across Europe too. We want experienced, enthusiastic telesales people to work from home and make appointments for our UK sales people and to sell to small companies on the phone as well. We provide full training and marketing back up via ecasts, web and collateral and both a good salary and commission and you can work from home anywhere in the UK. We will pay for your phone calls and your internet. Why not become part of our future success? We will consider Part Time too. ****  **** depending on experience. Phone bill and internet paid too.\n",
      " Salary: 14999\n",
      "\n",
      "Position: Junior Packaging Designer Location: London Salary: ****k Ref: **** Client based in West London is currently on the look out for junior packaging designer to join the studio team. The company specialise in a wide range of packaging for a number of products The ideal candidate will have some commercial experience may be a placement or some freelance work. Good set of packages to a high standard As well as the finished work would be good to show some sketch work in the examples. If you can **** or **** examples on a PDF document something to present to the client. Please make sure that your full address and details are included in your application for this role\n",
      " Salary: 13000\n",
      "\n",
      "Huxley Associates is proud to be working exclusively with a leading and growing Engineering business in the Worcester area who are looking for a new technical Project Manager to join the team. This is a heavy engineering business design and manufacture complex electromechanical products to a variety of industries including Automotive and Off Highway. They are a growing business with 4 sites currently globally but are extremely busy with work so are looking to grow the business further. In line with this they are looking to recruit a Project Manager onto the team. This is a technical role which will require experience in mechanical and electric equipment at PLC control. You will be out working with the companies customer so an element of travel is involved where you will need to represent the company, produce quotations and get involved in the sales process. This is a passionate and enthusiastic company with what they do so they are looking for someone who shares this passion. There is clear progression in this role to Technical Director for a candidate who proves themselves in the role. On offer for the role is a starting salary of circa **** plus company car and generous benefits package. This is an urgent role with shortlisting occurring now so if you would like to be considered please apply to Brooke Whitehead at Huxley Associates ASAP in order to avoid disappointment. NB This role may be suitable for, but not limited to, the following job titles: Project Manager, Project Engineer, Commissioning Engineer, Maintenance Engineer, Applications Engineer, Electrical Engineer. This role is commutable from: Worcester, Redditch, Bromsgrove, Birmingham, Stratford, Hereford, Worcestershire, West Midlands. Please note there is a relocation package on offer if necessary for the right candidate.To find out more about Huxley Associates please visit www.huxley.com\n",
      " Salary: 42500\n",
      "\n",
      "Job Title  PLC Software Engineer Location  Birmingham or Bedford Up to **** per annum (experience dependant)  Car The Role Our client is a rapidly expanding multimillion pound business with sites across Europe. Specialising in fully automated materials handling solutions their customers include the likes of BMW, Bentley, Aston Martin, Amazon and Parcel Force to name a few. They are urgently seeking a PLC Software Engineer to join their experienced team. Candidates must be able code PLC from scratch, Siemens or Rockwell is preferable but not essential. The successful candidate will work closely with both the Project Manager s and Engineers, as well as Sales staff and on site contractors to ensure the project is delivered on time and to schedule. The majority of your time will be spent writing code for fully automated systems, with the rest spent on site working with the Commissioning Engineers at the point of installation. The PLC Software Engineer will also be required to act as a trouble shooter and liaise with service support staff in rectifying problems, which may require radical solutions to problems. The successful candidate would also be required to work on site when needed. The Candidate To be successful in your application you must have the following skills or attributes: Must be able to write PLC code from scratch (Siemens S**** or Rockwell preferable). Must be willing to travel across the UK and stay away. Must be selfmotivated. A minimum of 5 years experience writing code. The Benefits Basic salary  Up to **** depending on experience. Company Car  Large range available including Audi and BMW. Holidays  23 days  **** statutory days. Pension & Bupa healthcare available. Funded training available\n",
      " Salary: 36500\n",
      "\n",
      "Our client is looking to recruit a CNC Machinist for a permanent position with immediate start. The ideal candidate must be apprentice trained and have previous experience working on CNC Machining Centre. Day & Night Shifts available. This is a temporary to permanent position for the ideal candidate, with an immediate start. Interested then do not delay Please contact Stacey ASAP: Email your CV by using the 'Apply Now' option or call us on the telephone number below in 'Additional Information' This vacancy is within travelling distance from Keighley, Skipton, Colne, Nelson, Bingley, Shipley, Bradford & Burnley.\n",
      " Salary: 24960\n",
      "\n",
      "CRG Allied Health are working in partnership with a private client that is looking to recruit Permanent Occupational therapists. Band 5/**** positions  ******** P/A (dependent on location and experience) Hours of Work: Full time/Part Time (including weekend working) Positions available in Cambridgeshire as well as London, Essex, Surrey and Kent borders. The successful candidates will be working in a community setting treating onetoone acute health care to patients in their own homes. Must have own car For a full job spec, please contact Richard Fox. From CRG AHP you can expect the following benefits:  ? Designated AHP Team available twentyfour/seven ? Excellent pay rates with clear advice ? Prompt weekly payment ? FREE Mandatory & Induction Training ? FREE CRB check (T&C apply) ? Contributions towards CPD ? Cost Effective Locum Cars ? Introduction bonuses up to **** Allied Health Professionals with a good track record of working in the NHS, Military and Private Sector PLEASE CONTACT US with your availability CRG are a GPS, LPP, HTE approved supplier to the NHS. Locum and permanent vacancies throughout the UK Tell us where you want to work Visa Required: Applicants must be eligible to work in the specified location\n",
      " Salary: 27000</s>\n",
      "Input batch (encoded): {'input_ids': tensor([[    1,   887,   526,  ...,  3956,   653, 29901]], device='cuda:0'), 'attention_mask': tensor([[1, 1, 1,  ..., 1, 1, 1]], device='cuda:0')}\n"
     ]
    }
   ],
   "source": [
    "# Добавим в промпт интересующее нас описание\n",
    "prompt3 = prompt + f'''{ dataset['FullDescription'][152]}\n",
    " Salary:'''\n",
    "\n",
    "batch = tokenizer(prompt3, return_tensors='pt', return_token_type_ids=False).to(device)\n",
    "\n",
    "output_tokens = model.generate(**batch, max_new_tokens=10, do_sample=True, temperature=0.8)\n",
    "\n",
    "print(\"\\nOutput:\", tokenizer.decode(output_tokens[0].cpu()))\n",
    "\n",
    "print(\"Input batch (encoded):\", batch)"
   ]
  },
  {
   "cell_type": "markdown",
   "id": "946bcd92",
   "metadata": {
    "id": "pr_h1kWeBFs8"
   },
   "source": [
    "Посмотрем на истинное значение"
   ]
  },
  {
   "cell_type": "code",
   "execution_count": 16,
   "id": "dc81b2bf",
   "metadata": {
    "colab": {
     "base_uri": "https://localhost:8080/"
    },
    "id": "MVXIxuvaA9gp",
    "outputId": "6b32c797-655f-4452-98de-ab000cd8ba0e"
   },
   "outputs": [
    {
     "name": "stdout",
     "output_type": "stream",
     "text": [
      "True salary: 28000\n"
     ]
    }
   ],
   "source": [
    "print(f\"True salary: {dataset['SalaryNormalized'][152]}\")"
   ]
  },
  {
   "cell_type": "markdown",
   "id": "52225a5a",
   "metadata": {},
   "source": [
    "Видим, что значение мало отличается от истинного"
   ]
  },
  {
   "cell_type": "markdown",
   "id": "9ef97279",
   "metadata": {
    "id": "h0jcboVaByQK"
   },
   "source": [
    "Попробуем поменять параметры модели, уменьшив температуру"
   ]
  },
  {
   "cell_type": "code",
   "execution_count": 17,
   "id": "0e8af94a",
   "metadata": {
    "colab": {
     "base_uri": "https://localhost:8080/"
    },
    "id": "-F16tpyLB1YU",
    "outputId": "5849fc97-e6f4-4bc0-89e0-9c9ce8a15191"
   },
   "outputs": [
    {
     "name": "stdout",
     "output_type": "stream",
     "text": [
      "\n",
      "Output: <s>You are given a text description of a job and need to evaluate salary based on this description. Provide only the number representing expected salary.\n",
      "\n",
      "###\n",
      "Here are 7 job descriptions:\n",
      "\n",
      "This is an exciting opportunity for a Recruiter to join a rapidly growing online retailer. You will be responsible for developing and executing recruiting plans across the company. Your key accountabilities will include creating job descriptions, working closely with hiring managers, reducing recruitment costs, coordinating and implementing university recruitment initiatives and networking with industry contacts. You should be of graduate calibre with a track record in recruitment ideally gained in a fast moving start up environment. Experience of working in an online company would be a distinct advantage. Our client is an online retailer operating in the UK and in Continental Europe. This job was originally posted as www.totaljobs.com/JobSeeking/RecruitmentManager_job****\n",
      " Salary: 55000\n",
      "\n",
      "We are a new fast growing Internet/Telecoms company Klick2Contact (), established in 2010 which offers a full intuitive suite of Live Help services to companies thought the UK and Europe with ecommerce websites. These services help increase their online sales and decrease their website abandonment and more besides We have customers like Next plc and Yodel and Ryanair in the UK and customers all across Europe too. We want experienced, enthusiastic telesales people to work from home and make appointments for our UK sales people and to sell to small companies on the phone as well. We provide full training and marketing back up via ecasts, web and collateral and both a good salary and commission and you can work from home anywhere in the UK. We will pay for your phone calls and your internet. Why not become part of our future success? We will consider Part Time too. ****  **** depending on experience. Phone bill and internet paid too.\n",
      " Salary: 14999\n",
      "\n",
      "Position: Junior Packaging Designer Location: London Salary: ****k Ref: **** Client based in West London is currently on the look out for junior packaging designer to join the studio team. The company specialise in a wide range of packaging for a number of products The ideal candidate will have some commercial experience may be a placement or some freelance work. Good set of packages to a high standard As well as the finished work would be good to show some sketch work in the examples. If you can **** or **** examples on a PDF document something to present to the client. Please make sure that your full address and details are included in your application for this role\n",
      " Salary: 13000\n",
      "\n",
      "Huxley Associates is proud to be working exclusively with a leading and growing Engineering business in the Worcester area who are looking for a new technical Project Manager to join the team. This is a heavy engineering business design and manufacture complex electromechanical products to a variety of industries including Automotive and Off Highway. They are a growing business with 4 sites currently globally but are extremely busy with work so are looking to grow the business further. In line with this they are looking to recruit a Project Manager onto the team. This is a technical role which will require experience in mechanical and electric equipment at PLC control. You will be out working with the companies customer so an element of travel is involved where you will need to represent the company, produce quotations and get involved in the sales process. This is a passionate and enthusiastic company with what they do so they are looking for someone who shares this passion. There is clear progression in this role to Technical Director for a candidate who proves themselves in the role. On offer for the role is a starting salary of circa **** plus company car and generous benefits package. This is an urgent role with shortlisting occurring now so if you would like to be considered please apply to Brooke Whitehead at Huxley Associates ASAP in order to avoid disappointment. NB This role may be suitable for, but not limited to, the following job titles: Project Manager, Project Engineer, Commissioning Engineer, Maintenance Engineer, Applications Engineer, Electrical Engineer. This role is commutable from: Worcester, Redditch, Bromsgrove, Birmingham, Stratford, Hereford, Worcestershire, West Midlands. Please note there is a relocation package on offer if necessary for the right candidate.To find out more about Huxley Associates please visit www.huxley.com\n",
      " Salary: 42500\n",
      "\n",
      "Job Title  PLC Software Engineer Location  Birmingham or Bedford Up to **** per annum (experience dependant)  Car The Role Our client is a rapidly expanding multimillion pound business with sites across Europe. Specialising in fully automated materials handling solutions their customers include the likes of BMW, Bentley, Aston Martin, Amazon and Parcel Force to name a few. They are urgently seeking a PLC Software Engineer to join their experienced team. Candidates must be able code PLC from scratch, Siemens or Rockwell is preferable but not essential. The successful candidate will work closely with both the Project Manager s and Engineers, as well as Sales staff and on site contractors to ensure the project is delivered on time and to schedule. The majority of your time will be spent writing code for fully automated systems, with the rest spent on site working with the Commissioning Engineers at the point of installation. The PLC Software Engineer will also be required to act as a trouble shooter and liaise with service support staff in rectifying problems, which may require radical solutions to problems. The successful candidate would also be required to work on site when needed. The Candidate To be successful in your application you must have the following skills or attributes: Must be able to write PLC code from scratch (Siemens S**** or Rockwell preferable). Must be willing to travel across the UK and stay away. Must be selfmotivated. A minimum of 5 years experience writing code. The Benefits Basic salary  Up to **** depending on experience. Company Car  Large range available including Audi and BMW. Holidays  23 days  **** statutory days. Pension & Bupa healthcare available. Funded training available\n",
      " Salary: 36500\n",
      "\n",
      "Our client is looking to recruit a CNC Machinist for a permanent position with immediate start. The ideal candidate must be apprentice trained and have previous experience working on CNC Machining Centre. Day & Night Shifts available. This is a temporary to permanent position for the ideal candidate, with an immediate start. Interested then do not delay Please contact Stacey ASAP: Email your CV by using the 'Apply Now' option or call us on the telephone number below in 'Additional Information' This vacancy is within travelling distance from Keighley, Skipton, Colne, Nelson, Bingley, Shipley, Bradford & Burnley.\n",
      " Salary: 24960\n",
      "\n",
      "CRG Allied Health are working in partnership with a private client that is looking to recruit Permanent Occupational therapists. Band 5/**** positions  ******** P/A (dependent on location and experience) Hours of Work: Full time/Part Time (including weekend working) Positions available in Cambridgeshire as well as London, Essex, Surrey and Kent borders. The successful candidates will be working in a community setting treating onetoone acute health care to patients in their own homes. Must have own car For a full job spec, please contact Richard Fox. From CRG AHP you can expect the following benefits:  ? Designated AHP Team available twentyfour/seven ? Excellent pay rates with clear advice ? Prompt weekly payment ? FREE Mandatory & Induction Training ? FREE CRB check (T&C apply) ? Contributions towards CPD ? Cost Effective Locum Cars ? Introduction bonuses up to **** Allied Health Professionals with a good track record of working in the NHS, Military and Private Sector PLEASE CONTACT US with your availability CRG are a GPS, LPP, HTE approved supplier to the NHS. Locum and permanent vacancies throughout the UK Tell us where you want to work Visa Required: Applicants must be eligible to work in the specified location\n",
      " Salary: 24960\n",
      "\n",
      "We are\n",
      "Input batch (encoded): {'input_ids': tensor([[    1,   887,   526,  ...,  3956,   653, 29901]], device='cuda:0'), 'attention_mask': tensor([[1, 1, 1,  ..., 1, 1, 1]], device='cuda:0')}\n"
     ]
    }
   ],
   "source": [
    "batch = tokenizer(prompt3, return_tensors='pt', return_token_type_ids=False).to(device)\n",
    "\n",
    "output_tokens = model.generate(**batch, max_new_tokens=10, do_sample=True, temperature=0.2)\n",
    "\n",
    "print(\"\\nOutput:\", tokenizer.decode(output_tokens[0].cpu()))\n",
    "\n",
    "print(\"Input batch (encoded):\", batch)"
   ]
  },
  {
   "cell_type": "code",
   "execution_count": 18,
   "id": "6d4ae791",
   "metadata": {
    "colab": {
     "base_uri": "https://localhost:8080/"
    },
    "id": "-b0pnHw3CDgb",
    "outputId": "7b9137cc-d5eb-48cc-ab26-6acf4552710f"
   },
   "outputs": [
    {
     "name": "stdout",
     "output_type": "stream",
     "text": [
      "True salary: 44000\n"
     ]
    }
   ],
   "source": [
    "print(f\"True salary: {dataset['SalaryNormalized'][153]}\")"
   ]
  },
  {
   "cell_type": "markdown",
   "id": "8cf9f2d7",
   "metadata": {},
   "source": [
    "По одному ответу невозможно понять как хорошо та или иная модель предсказывает зарплаты, но тем не менее стоит отметить, что ошибка действительно больше. Также, несмотря на та что написно \"Here are 7 descriptions\", LLM начала писать восьмое описание, остановившись из-за лимита выходных токенов. То есть при уменьшении температуры модель может перестать обращать внимание на такие детали"
   ]
  },
  {
   "cell_type": "markdown",
   "id": "7e262618",
   "metadata": {
    "id": "44c5b71a"
   },
   "source": [
    "Если почувствуете, что у вас не получается добиться от модели желаемого, вы можете попробовать воспользоваться любой другой языковой моделью на ваш выбор, но тогда вы получите **не больше 30 баллов**.\n",
    "\n",
    "В случае использования другой модели предоставьте скриншот ответа LLM и промпт, который вы использовали (в текстовом формате). Его можно вставить прямо в ноутбук или прислать в бот отдельным файлом."
   ]
  },
  {
   "cell_type": "code",
   "execution_count": null,
   "id": "675e8cd4",
   "metadata": {
    "id": "3a570ad9"
   },
   "outputs": [],
   "source": []
  },
  {
   "cell_type": "markdown",
   "id": "e5e905bb",
   "metadata": {
    "id": "678a6737"
   },
   "source": [
    "**Вывод:**<br>\n",
    "Мы подключили заранее обученную большую языковую модель Llama, а также сформировали промпт, состоящий из описания а также примеров, дополнив который нужным описанием, можно с помощью LLM Llama предсказать зарплату по описанию работы. При этом в двух запусках с высокой температурой результат мало отличается от истинного значения, но для того чтобы делать какие-либо выводы необходимо провести более тщательный анализ. <br>\n",
    "Также можно высказать гипотезу, что при обучении Llama были в какой-то степени задействован и наш датасет(на датасетах удобно обучать, так как они уже упорядочены в отличии от большинства информации)"
   ]
  },
  {
   "cell_type": "markdown",
   "id": "d39bad5e",
   "metadata": {
    "id": "020fee33"
   },
   "source": [
    "---\n",
    "*Если хотите отточить навык написания промптов &mdash; **prompt-engineering** &mdash; можете попробовать сыграть в <a target=\"_blank\" href=\"https://gandalf.lakera.ai/\">игру</a>. В ней нужно заставить Гендальфа выдать пароль. Со временем уровни становятся все сложнее и требуют более хитрых приемов.*"
   ]
  }
 ],
 "metadata": {
  "accelerator": "GPU",
  "colab": {
   "gpuType": "T4",
   "provenance": []
  },
  "hide_input": false,
  "kernelspec": {
   "display_name": "Python 3 (ipykernel)",
   "language": "python",
   "name": "python3"
  },
  "language_info": {
   "codemirror_mode": {
    "name": "ipython",
    "version": 3
   },
   "file_extension": ".py",
   "mimetype": "text/x-python",
   "name": "python",
   "nbconvert_exporter": "python",
   "pygments_lexer": "ipython3",
   "version": "3.7.16"
  }
 },
 "nbformat": 4,
 "nbformat_minor": 5
}
